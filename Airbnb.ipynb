{
 "cells": [
  {
   "cell_type": "code",
   "execution_count": 2,
   "metadata": {},
   "outputs": [],
   "source": [
    "import numpy as np\n",
    "import pandas as pd\n",
    "import seaborn as sns\n",
    "import matplotlib.pyplot as plt"
   ]
  },
  {
   "cell_type": "markdown",
   "metadata": {},
   "source": [
    "## **loaded data using read_csv()** "
   ]
  },
  {
   "cell_type": "code",
   "execution_count": 3,
   "metadata": {},
   "outputs": [
    {
     "name": "stderr",
     "output_type": "stream",
     "text": [
      "C:\\Users\\LENOVO\\AppData\\Local\\Temp\\ipykernel_9696\\3424017332.py:1: DtypeWarning: Columns (25) have mixed types. Specify dtype option on import or set low_memory=False.\n",
      "  df = pd.read_csv(\"Airbnb_Open_Data.csv\")\n"
     ]
    }
   ],
   "source": [
    "df = pd.read_csv(\"Airbnb_Open_Data.csv\")"
   ]
  },
  {
   "cell_type": "markdown",
   "metadata": {},
   "source": [
    "### **getting first 5 rows**"
   ]
  },
  {
   "cell_type": "code",
   "execution_count": 4,
   "metadata": {},
   "outputs": [
    {
     "data": {
      "text/html": [
       "<div>\n",
       "<style scoped>\n",
       "    .dataframe tbody tr th:only-of-type {\n",
       "        vertical-align: middle;\n",
       "    }\n",
       "\n",
       "    .dataframe tbody tr th {\n",
       "        vertical-align: top;\n",
       "    }\n",
       "\n",
       "    .dataframe thead th {\n",
       "        text-align: right;\n",
       "    }\n",
       "</style>\n",
       "<table border=\"1\" class=\"dataframe\">\n",
       "  <thead>\n",
       "    <tr style=\"text-align: right;\">\n",
       "      <th></th>\n",
       "      <th>id</th>\n",
       "      <th>NAME</th>\n",
       "      <th>host id</th>\n",
       "      <th>host_identity_verified</th>\n",
       "      <th>host name</th>\n",
       "      <th>neighbourhood group</th>\n",
       "      <th>neighbourhood</th>\n",
       "      <th>lat</th>\n",
       "      <th>long</th>\n",
       "      <th>country</th>\n",
       "      <th>...</th>\n",
       "      <th>service fee</th>\n",
       "      <th>minimum nights</th>\n",
       "      <th>number of reviews</th>\n",
       "      <th>last review</th>\n",
       "      <th>reviews per month</th>\n",
       "      <th>review rate number</th>\n",
       "      <th>calculated host listings count</th>\n",
       "      <th>availability 365</th>\n",
       "      <th>house_rules</th>\n",
       "      <th>license</th>\n",
       "    </tr>\n",
       "  </thead>\n",
       "  <tbody>\n",
       "    <tr>\n",
       "      <th>0</th>\n",
       "      <td>1001254</td>\n",
       "      <td>Clean &amp; quiet apt home by the park</td>\n",
       "      <td>80014485718</td>\n",
       "      <td>unconfirmed</td>\n",
       "      <td>Madaline</td>\n",
       "      <td>Brooklyn</td>\n",
       "      <td>Kensington</td>\n",
       "      <td>40.64749</td>\n",
       "      <td>-73.97237</td>\n",
       "      <td>United States</td>\n",
       "      <td>...</td>\n",
       "      <td>$193</td>\n",
       "      <td>10.0</td>\n",
       "      <td>9.0</td>\n",
       "      <td>10/19/2021</td>\n",
       "      <td>0.21</td>\n",
       "      <td>4.0</td>\n",
       "      <td>6.0</td>\n",
       "      <td>286.0</td>\n",
       "      <td>Clean up and treat the home the way you'd like...</td>\n",
       "      <td>NaN</td>\n",
       "    </tr>\n",
       "    <tr>\n",
       "      <th>1</th>\n",
       "      <td>1002102</td>\n",
       "      <td>Skylit Midtown Castle</td>\n",
       "      <td>52335172823</td>\n",
       "      <td>verified</td>\n",
       "      <td>Jenna</td>\n",
       "      <td>Manhattan</td>\n",
       "      <td>Midtown</td>\n",
       "      <td>40.75362</td>\n",
       "      <td>-73.98377</td>\n",
       "      <td>United States</td>\n",
       "      <td>...</td>\n",
       "      <td>$28</td>\n",
       "      <td>30.0</td>\n",
       "      <td>45.0</td>\n",
       "      <td>5/21/2022</td>\n",
       "      <td>0.38</td>\n",
       "      <td>4.0</td>\n",
       "      <td>2.0</td>\n",
       "      <td>228.0</td>\n",
       "      <td>Pet friendly but please confirm with me if the...</td>\n",
       "      <td>NaN</td>\n",
       "    </tr>\n",
       "    <tr>\n",
       "      <th>2</th>\n",
       "      <td>1002403</td>\n",
       "      <td>THE VILLAGE OF HARLEM....NEW YORK !</td>\n",
       "      <td>78829239556</td>\n",
       "      <td>NaN</td>\n",
       "      <td>Elise</td>\n",
       "      <td>Manhattan</td>\n",
       "      <td>Harlem</td>\n",
       "      <td>40.80902</td>\n",
       "      <td>-73.94190</td>\n",
       "      <td>United States</td>\n",
       "      <td>...</td>\n",
       "      <td>$124</td>\n",
       "      <td>3.0</td>\n",
       "      <td>0.0</td>\n",
       "      <td>NaN</td>\n",
       "      <td>NaN</td>\n",
       "      <td>5.0</td>\n",
       "      <td>1.0</td>\n",
       "      <td>352.0</td>\n",
       "      <td>I encourage you to use my kitchen, cooking and...</td>\n",
       "      <td>NaN</td>\n",
       "    </tr>\n",
       "    <tr>\n",
       "      <th>3</th>\n",
       "      <td>1002755</td>\n",
       "      <td>NaN</td>\n",
       "      <td>85098326012</td>\n",
       "      <td>unconfirmed</td>\n",
       "      <td>Garry</td>\n",
       "      <td>Brooklyn</td>\n",
       "      <td>Clinton Hill</td>\n",
       "      <td>40.68514</td>\n",
       "      <td>-73.95976</td>\n",
       "      <td>United States</td>\n",
       "      <td>...</td>\n",
       "      <td>$74</td>\n",
       "      <td>30.0</td>\n",
       "      <td>270.0</td>\n",
       "      <td>7/5/2019</td>\n",
       "      <td>4.64</td>\n",
       "      <td>4.0</td>\n",
       "      <td>1.0</td>\n",
       "      <td>322.0</td>\n",
       "      <td>NaN</td>\n",
       "      <td>NaN</td>\n",
       "    </tr>\n",
       "    <tr>\n",
       "      <th>4</th>\n",
       "      <td>1003689</td>\n",
       "      <td>Entire Apt: Spacious Studio/Loft by central park</td>\n",
       "      <td>92037596077</td>\n",
       "      <td>verified</td>\n",
       "      <td>Lyndon</td>\n",
       "      <td>Manhattan</td>\n",
       "      <td>East Harlem</td>\n",
       "      <td>40.79851</td>\n",
       "      <td>-73.94399</td>\n",
       "      <td>United States</td>\n",
       "      <td>...</td>\n",
       "      <td>$41</td>\n",
       "      <td>10.0</td>\n",
       "      <td>9.0</td>\n",
       "      <td>11/19/2018</td>\n",
       "      <td>0.10</td>\n",
       "      <td>3.0</td>\n",
       "      <td>1.0</td>\n",
       "      <td>289.0</td>\n",
       "      <td>Please no smoking in the house, porch or on th...</td>\n",
       "      <td>NaN</td>\n",
       "    </tr>\n",
       "  </tbody>\n",
       "</table>\n",
       "<p>5 rows × 26 columns</p>\n",
       "</div>"
      ],
      "text/plain": [
       "        id                                              NAME      host id  \\\n",
       "0  1001254                Clean & quiet apt home by the park  80014485718   \n",
       "1  1002102                             Skylit Midtown Castle  52335172823   \n",
       "2  1002403               THE VILLAGE OF HARLEM....NEW YORK !  78829239556   \n",
       "3  1002755                                               NaN  85098326012   \n",
       "4  1003689  Entire Apt: Spacious Studio/Loft by central park  92037596077   \n",
       "\n",
       "  host_identity_verified host name neighbourhood group neighbourhood  \\\n",
       "0            unconfirmed  Madaline            Brooklyn    Kensington   \n",
       "1               verified     Jenna           Manhattan       Midtown   \n",
       "2                    NaN     Elise           Manhattan        Harlem   \n",
       "3            unconfirmed     Garry            Brooklyn  Clinton Hill   \n",
       "4               verified    Lyndon           Manhattan   East Harlem   \n",
       "\n",
       "        lat      long        country  ... service fee minimum nights  \\\n",
       "0  40.64749 -73.97237  United States  ...       $193            10.0   \n",
       "1  40.75362 -73.98377  United States  ...        $28            30.0   \n",
       "2  40.80902 -73.94190  United States  ...       $124             3.0   \n",
       "3  40.68514 -73.95976  United States  ...        $74            30.0   \n",
       "4  40.79851 -73.94399  United States  ...        $41            10.0   \n",
       "\n",
       "  number of reviews last review  reviews per month review rate number  \\\n",
       "0               9.0  10/19/2021               0.21                4.0   \n",
       "1              45.0   5/21/2022               0.38                4.0   \n",
       "2               0.0         NaN                NaN                5.0   \n",
       "3             270.0    7/5/2019               4.64                4.0   \n",
       "4               9.0  11/19/2018               0.10                3.0   \n",
       "\n",
       "  calculated host listings count  availability 365  \\\n",
       "0                            6.0             286.0   \n",
       "1                            2.0             228.0   \n",
       "2                            1.0             352.0   \n",
       "3                            1.0             322.0   \n",
       "4                            1.0             289.0   \n",
       "\n",
       "                                         house_rules license  \n",
       "0  Clean up and treat the home the way you'd like...     NaN  \n",
       "1  Pet friendly but please confirm with me if the...     NaN  \n",
       "2  I encourage you to use my kitchen, cooking and...     NaN  \n",
       "3                                                NaN     NaN  \n",
       "4  Please no smoking in the house, porch or on th...     NaN  \n",
       "\n",
       "[5 rows x 26 columns]"
      ]
     },
     "execution_count": 4,
     "metadata": {},
     "output_type": "execute_result"
    }
   ],
   "source": [
    "df.head()"
   ]
  },
  {
   "cell_type": "markdown",
   "metadata": {},
   "source": [
    "### **lets see the columns names first**"
   ]
  },
  {
   "cell_type": "code",
   "execution_count": 5,
   "metadata": {},
   "outputs": [
    {
     "data": {
      "text/plain": [
       "Index(['id', 'NAME', 'host id', 'host_identity_verified', 'host name',\n",
       "       'neighbourhood group', 'neighbourhood', 'lat', 'long', 'country',\n",
       "       'country code', 'instant_bookable', 'cancellation_policy', 'room type',\n",
       "       'Construction year', 'price', 'service fee', 'minimum nights',\n",
       "       'number of reviews', 'last review', 'reviews per month',\n",
       "       'review rate number', 'calculated host listings count',\n",
       "       'availability 365', 'house_rules', 'license'],\n",
       "      dtype='object')"
      ]
     },
     "execution_count": 5,
     "metadata": {},
     "output_type": "execute_result"
    }
   ],
   "source": [
    "df.columns"
   ]
  },
  {
   "cell_type": "markdown",
   "metadata": {},
   "source": [
    "### **Checking missing values**"
   ]
  },
  {
   "cell_type": "code",
   "execution_count": 6,
   "metadata": {},
   "outputs": [
    {
     "data": {
      "text/plain": [
       "id                                     0\n",
       "NAME                                 250\n",
       "host id                                0\n",
       "host_identity_verified               289\n",
       "host name                            406\n",
       "neighbourhood group                   29\n",
       "neighbourhood                         16\n",
       "lat                                    8\n",
       "long                                   8\n",
       "country                              532\n",
       "country code                         131\n",
       "instant_bookable                     105\n",
       "cancellation_policy                   76\n",
       "room type                              0\n",
       "Construction year                    214\n",
       "price                                247\n",
       "service fee                          273\n",
       "minimum nights                       409\n",
       "number of reviews                    183\n",
       "last review                        15893\n",
       "reviews per month                  15879\n",
       "review rate number                   326\n",
       "calculated host listings count       319\n",
       "availability 365                     448\n",
       "house_rules                        52131\n",
       "license                           102597\n",
       "dtype: int64"
      ]
     },
     "execution_count": 6,
     "metadata": {},
     "output_type": "execute_result"
    }
   ],
   "source": [
    "df.isnull().sum()"
   ]
  },
  {
   "cell_type": "code",
   "execution_count": 7,
   "metadata": {},
   "outputs": [],
   "source": [
    "# According to the question and based on what we receive above we will \n",
    "# drop this two columns \n",
    "\n",
    "# house_rules                        52131\n",
    "# license                           102597"
   ]
  },
  {
   "cell_type": "markdown",
   "metadata": {},
   "source": [
    "## **Checking the each column which type of data exist inside of that column**"
   ]
  },
  {
   "cell_type": "code",
   "execution_count": 8,
   "metadata": {},
   "outputs": [
    {
     "name": "stdout",
     "output_type": "stream",
     "text": [
      "<class 'pandas.core.frame.DataFrame'>\n",
      "RangeIndex: 102599 entries, 0 to 102598\n",
      "Data columns (total 26 columns):\n",
      " #   Column                          Non-Null Count   Dtype  \n",
      "---  ------                          --------------   -----  \n",
      " 0   id                              102599 non-null  int64  \n",
      " 1   NAME                            102349 non-null  object \n",
      " 2   host id                         102599 non-null  int64  \n",
      " 3   host_identity_verified          102310 non-null  object \n",
      " 4   host name                       102193 non-null  object \n",
      " 5   neighbourhood group             102570 non-null  object \n",
      " 6   neighbourhood                   102583 non-null  object \n",
      " 7   lat                             102591 non-null  float64\n",
      " 8   long                            102591 non-null  float64\n",
      " 9   country                         102067 non-null  object \n",
      " 10  country code                    102468 non-null  object \n",
      " 11  instant_bookable                102494 non-null  object \n",
      " 12  cancellation_policy             102523 non-null  object \n",
      " 13  room type                       102599 non-null  object \n",
      " 14  Construction year               102385 non-null  float64\n",
      " 15  price                           102352 non-null  object \n",
      " 16  service fee                     102326 non-null  object \n",
      " 17  minimum nights                  102190 non-null  float64\n",
      " 18  number of reviews               102416 non-null  float64\n",
      " 19  last review                     86706 non-null   object \n",
      " 20  reviews per month               86720 non-null   float64\n",
      " 21  review rate number              102273 non-null  float64\n",
      " 22  calculated host listings count  102280 non-null  float64\n",
      " 23  availability 365                102151 non-null  float64\n",
      " 24  house_rules                     50468 non-null   object \n",
      " 25  license                         2 non-null       object \n",
      "dtypes: float64(9), int64(2), object(15)\n",
      "memory usage: 20.4+ MB\n"
     ]
    }
   ],
   "source": [
    "df.info()"
   ]
  },
  {
   "cell_type": "markdown",
   "metadata": {},
   "source": [
    "**From our understanding of the dataset, the 'last_review' column has a data type of 'object', although it actually contains date values. Therefore, we need to first convert it to a proper datetime format using .astype() or pd.to_datetime().**"
   ]
  },
  {
   "cell_type": "markdown",
   "metadata": {},
   "source": [
    "## **Handling missing value**"
   ]
  },
  {
   "cell_type": "code",
   "execution_count": 9,
   "metadata": {},
   "outputs": [],
   "source": [
    "df[\"last review\"] = pd.to_datetime(df[\"last review\"], errors=\"coerce\") \n",
    "# Syntax: df[\"column_name\"] = pd.to_datetime(df[\"column_name\"], errors=\"coerce\")\n",
    "# Usage: kisi column ke saare values ko datetime object me convert karta hai pandas ka to_datetime() function\n",
    "# Kya ho raha hai: 'last review' naam ke column ke har value ko datetime format me convert kiya ja raha hai\n",
    "# Kyun use karte hain: Taki hum date/time pe operations (sorting, filtering, time difference) easily kar sakein\n",
    "# Hinglish breakdown:\n",
    "# df -> dataframe ka short naam, yeh ek table jaisa data hota hai\n",
    "# [\"last review\"] -> is column ka naam hai jisme dates stored hain (shayd strings ki form me)\n",
    "# pd.to_datetime() -> pandas ka function hai jo string ko datetime me badalta hai\n",
    "# errors=\"coerce\" -> agar koi value galat hai ya missing hai toh usko NaT (Not a Time) bana dega, crash nahi karega\n",
    "# Real-life analogy: Socho tumhare paas ek diary hai jisme logon ne date likhi hai kab review diya.\n",
    "# Agar kisi ne galat ya chhodi hui date likhi hai, tum usko \"Unknown\" mark kar dete ho instead of guessing.\n"
   ]
  },
  {
   "cell_type": "code",
   "execution_count": 10,
   "metadata": {},
   "outputs": [
    {
     "name": "stdout",
     "output_type": "stream",
     "text": [
      "<class 'pandas.core.frame.DataFrame'>\n",
      "RangeIndex: 102599 entries, 0 to 102598\n",
      "Data columns (total 26 columns):\n",
      " #   Column                          Non-Null Count   Dtype         \n",
      "---  ------                          --------------   -----         \n",
      " 0   id                              102599 non-null  int64         \n",
      " 1   NAME                            102349 non-null  object        \n",
      " 2   host id                         102599 non-null  int64         \n",
      " 3   host_identity_verified          102310 non-null  object        \n",
      " 4   host name                       102193 non-null  object        \n",
      " 5   neighbourhood group             102570 non-null  object        \n",
      " 6   neighbourhood                   102583 non-null  object        \n",
      " 7   lat                             102591 non-null  float64       \n",
      " 8   long                            102591 non-null  float64       \n",
      " 9   country                         102067 non-null  object        \n",
      " 10  country code                    102468 non-null  object        \n",
      " 11  instant_bookable                102494 non-null  object        \n",
      " 12  cancellation_policy             102523 non-null  object        \n",
      " 13  room type                       102599 non-null  object        \n",
      " 14  Construction year               102385 non-null  float64       \n",
      " 15  price                           102352 non-null  object        \n",
      " 16  service fee                     102326 non-null  object        \n",
      " 17  minimum nights                  102190 non-null  float64       \n",
      " 18  number of reviews               102416 non-null  float64       \n",
      " 19  last review                     86706 non-null   datetime64[ns]\n",
      " 20  reviews per month               86720 non-null   float64       \n",
      " 21  review rate number              102273 non-null  float64       \n",
      " 22  calculated host listings count  102280 non-null  float64       \n",
      " 23  availability 365                102151 non-null  float64       \n",
      " 24  house_rules                     50468 non-null   object        \n",
      " 25  license                         2 non-null       object        \n",
      "dtypes: datetime64[ns](1), float64(9), int64(2), object(14)\n",
      "memory usage: 20.4+ MB\n"
     ]
    }
   ],
   "source": [
    "\n",
    "df.info()\n",
    "# Syntax: df.info()\n",
    "# Usage: dataframe ka ek quick summary print karta hai – rows kitni hain, columns me kitni null values hain, data types kya hain\n",
    "# Kya ho raha hai: df ke structure ka ek concise overview dikh raha hai terminal me\n",
    "# Kyun use karte hain: dataset ke health check jaise – kaunse column me missing data hai, kya datatype hai\n",
    "# Hinglish breakdown:\n",
    "# df -> dataframe (table jaisa data)\n",
    "# info() -> ek method hai jo batata hai har column me kitni values hain, kya type hai (int, float, datetime), memory usage kitni hai\n",
    "# Real-life analogy: Socho tumhare paas ek register hai, info() uska summary page hai jisme likha hai kitne pages likhe gaye, kya likha gaya, aur kitna space use hua\n"
   ]
  },
  {
   "cell_type": "code",
   "execution_count": 11,
   "metadata": {},
   "outputs": [],
   "source": [
    "df.fillna({\"review per month\": 0 ,\"last review\" : df[\"last review\"].min()},inplace=True)"
   ]
  },
  {
   "cell_type": "markdown",
   "metadata": {},
   "source": [
    "### **Droping more two column names,hostnames**"
   ]
  },
  {
   "cell_type": "code",
   "execution_count": 12,
   "metadata": {},
   "outputs": [],
   "source": [
    "df.dropna(subset=[\"NAME\",\"host name\"],inplace=True)"
   ]
  },
  {
   "cell_type": "code",
   "execution_count": 13,
   "metadata": {},
   "outputs": [
    {
     "name": "stdout",
     "output_type": "stream",
     "text": [
      "id                                     0\n",
      "NAME                                   0\n",
      "host id                                0\n",
      "host_identity_verified               276\n",
      "host name                              0\n",
      "neighbourhood group                   26\n",
      "neighbourhood                         16\n",
      "lat                                    8\n",
      "long                                   8\n",
      "country                              526\n",
      "country code                         122\n",
      "instant_bookable                      96\n",
      "cancellation_policy                   70\n",
      "room type                              0\n",
      "Construction year                    200\n",
      "price                                239\n",
      "service fee                          268\n",
      "minimum nights                       403\n",
      "number of reviews                    182\n",
      "last review                            0\n",
      "reviews per month                  15763\n",
      "review rate number                   314\n",
      "calculated host listings count       318\n",
      "availability 365                     420\n",
      "house_rules                        51867\n",
      "license                           101947\n",
      "dtype: int64\n"
     ]
    }
   ],
   "source": [
    "print(df.isnull().sum())"
   ]
  },
  {
   "cell_type": "markdown",
   "metadata": {},
   "source": [
    "## **Droping More columns name house_rules and license.**"
   ]
  },
  {
   "cell_type": "code",
   "execution_count": 14,
   "metadata": {},
   "outputs": [
    {
     "data": {
      "text/html": [
       "<div>\n",
       "<style scoped>\n",
       "    .dataframe tbody tr th:only-of-type {\n",
       "        vertical-align: middle;\n",
       "    }\n",
       "\n",
       "    .dataframe tbody tr th {\n",
       "        vertical-align: top;\n",
       "    }\n",
       "\n",
       "    .dataframe thead th {\n",
       "        text-align: right;\n",
       "    }\n",
       "</style>\n",
       "<table border=\"1\" class=\"dataframe\">\n",
       "  <thead>\n",
       "    <tr style=\"text-align: right;\">\n",
       "      <th></th>\n",
       "      <th>id</th>\n",
       "      <th>NAME</th>\n",
       "      <th>host id</th>\n",
       "      <th>host_identity_verified</th>\n",
       "      <th>host name</th>\n",
       "      <th>neighbourhood group</th>\n",
       "      <th>neighbourhood</th>\n",
       "      <th>lat</th>\n",
       "      <th>long</th>\n",
       "      <th>country</th>\n",
       "      <th>...</th>\n",
       "      <th>Construction year</th>\n",
       "      <th>price</th>\n",
       "      <th>service fee</th>\n",
       "      <th>minimum nights</th>\n",
       "      <th>number of reviews</th>\n",
       "      <th>last review</th>\n",
       "      <th>reviews per month</th>\n",
       "      <th>review rate number</th>\n",
       "      <th>calculated host listings count</th>\n",
       "      <th>availability 365</th>\n",
       "    </tr>\n",
       "  </thead>\n",
       "  <tbody>\n",
       "    <tr>\n",
       "      <th>0</th>\n",
       "      <td>1001254</td>\n",
       "      <td>Clean &amp; quiet apt home by the park</td>\n",
       "      <td>80014485718</td>\n",
       "      <td>unconfirmed</td>\n",
       "      <td>Madaline</td>\n",
       "      <td>Brooklyn</td>\n",
       "      <td>Kensington</td>\n",
       "      <td>40.64749</td>\n",
       "      <td>-73.97237</td>\n",
       "      <td>United States</td>\n",
       "      <td>...</td>\n",
       "      <td>2020.0</td>\n",
       "      <td>$966</td>\n",
       "      <td>$193</td>\n",
       "      <td>10.0</td>\n",
       "      <td>9.0</td>\n",
       "      <td>2021-10-19</td>\n",
       "      <td>0.21</td>\n",
       "      <td>4.0</td>\n",
       "      <td>6.0</td>\n",
       "      <td>286.0</td>\n",
       "    </tr>\n",
       "    <tr>\n",
       "      <th>1</th>\n",
       "      <td>1002102</td>\n",
       "      <td>Skylit Midtown Castle</td>\n",
       "      <td>52335172823</td>\n",
       "      <td>verified</td>\n",
       "      <td>Jenna</td>\n",
       "      <td>Manhattan</td>\n",
       "      <td>Midtown</td>\n",
       "      <td>40.75362</td>\n",
       "      <td>-73.98377</td>\n",
       "      <td>United States</td>\n",
       "      <td>...</td>\n",
       "      <td>2007.0</td>\n",
       "      <td>$142</td>\n",
       "      <td>$28</td>\n",
       "      <td>30.0</td>\n",
       "      <td>45.0</td>\n",
       "      <td>2022-05-21</td>\n",
       "      <td>0.38</td>\n",
       "      <td>4.0</td>\n",
       "      <td>2.0</td>\n",
       "      <td>228.0</td>\n",
       "    </tr>\n",
       "    <tr>\n",
       "      <th>2</th>\n",
       "      <td>1002403</td>\n",
       "      <td>THE VILLAGE OF HARLEM....NEW YORK !</td>\n",
       "      <td>78829239556</td>\n",
       "      <td>NaN</td>\n",
       "      <td>Elise</td>\n",
       "      <td>Manhattan</td>\n",
       "      <td>Harlem</td>\n",
       "      <td>40.80902</td>\n",
       "      <td>-73.94190</td>\n",
       "      <td>United States</td>\n",
       "      <td>...</td>\n",
       "      <td>2005.0</td>\n",
       "      <td>$620</td>\n",
       "      <td>$124</td>\n",
       "      <td>3.0</td>\n",
       "      <td>0.0</td>\n",
       "      <td>2012-07-11</td>\n",
       "      <td>NaN</td>\n",
       "      <td>5.0</td>\n",
       "      <td>1.0</td>\n",
       "      <td>352.0</td>\n",
       "    </tr>\n",
       "    <tr>\n",
       "      <th>4</th>\n",
       "      <td>1003689</td>\n",
       "      <td>Entire Apt: Spacious Studio/Loft by central park</td>\n",
       "      <td>92037596077</td>\n",
       "      <td>verified</td>\n",
       "      <td>Lyndon</td>\n",
       "      <td>Manhattan</td>\n",
       "      <td>East Harlem</td>\n",
       "      <td>40.79851</td>\n",
       "      <td>-73.94399</td>\n",
       "      <td>United States</td>\n",
       "      <td>...</td>\n",
       "      <td>2009.0</td>\n",
       "      <td>$204</td>\n",
       "      <td>$41</td>\n",
       "      <td>10.0</td>\n",
       "      <td>9.0</td>\n",
       "      <td>2018-11-19</td>\n",
       "      <td>0.10</td>\n",
       "      <td>3.0</td>\n",
       "      <td>1.0</td>\n",
       "      <td>289.0</td>\n",
       "    </tr>\n",
       "    <tr>\n",
       "      <th>5</th>\n",
       "      <td>1004098</td>\n",
       "      <td>Large Cozy 1 BR Apartment In Midtown East</td>\n",
       "      <td>45498551794</td>\n",
       "      <td>verified</td>\n",
       "      <td>Michelle</td>\n",
       "      <td>Manhattan</td>\n",
       "      <td>Murray Hill</td>\n",
       "      <td>40.74767</td>\n",
       "      <td>-73.97500</td>\n",
       "      <td>United States</td>\n",
       "      <td>...</td>\n",
       "      <td>2013.0</td>\n",
       "      <td>$577</td>\n",
       "      <td>$115</td>\n",
       "      <td>3.0</td>\n",
       "      <td>74.0</td>\n",
       "      <td>2019-06-22</td>\n",
       "      <td>0.59</td>\n",
       "      <td>3.0</td>\n",
       "      <td>1.0</td>\n",
       "      <td>374.0</td>\n",
       "    </tr>\n",
       "  </tbody>\n",
       "</table>\n",
       "<p>5 rows × 24 columns</p>\n",
       "</div>"
      ],
      "text/plain": [
       "        id                                              NAME      host id  \\\n",
       "0  1001254                Clean & quiet apt home by the park  80014485718   \n",
       "1  1002102                             Skylit Midtown Castle  52335172823   \n",
       "2  1002403               THE VILLAGE OF HARLEM....NEW YORK !  78829239556   \n",
       "4  1003689  Entire Apt: Spacious Studio/Loft by central park  92037596077   \n",
       "5  1004098         Large Cozy 1 BR Apartment In Midtown East  45498551794   \n",
       "\n",
       "  host_identity_verified host name neighbourhood group neighbourhood  \\\n",
       "0            unconfirmed  Madaline            Brooklyn    Kensington   \n",
       "1               verified     Jenna           Manhattan       Midtown   \n",
       "2                    NaN     Elise           Manhattan        Harlem   \n",
       "4               verified    Lyndon           Manhattan   East Harlem   \n",
       "5               verified  Michelle           Manhattan   Murray Hill   \n",
       "\n",
       "        lat      long        country  ... Construction year  price  \\\n",
       "0  40.64749 -73.97237  United States  ...            2020.0  $966    \n",
       "1  40.75362 -73.98377  United States  ...            2007.0  $142    \n",
       "2  40.80902 -73.94190  United States  ...            2005.0  $620    \n",
       "4  40.79851 -73.94399  United States  ...            2009.0  $204    \n",
       "5  40.74767 -73.97500  United States  ...            2013.0  $577    \n",
       "\n",
       "  service fee minimum nights  number of reviews last review reviews per month  \\\n",
       "0       $193            10.0                9.0  2021-10-19              0.21   \n",
       "1        $28            30.0               45.0  2022-05-21              0.38   \n",
       "2       $124             3.0                0.0  2012-07-11               NaN   \n",
       "4        $41            10.0                9.0  2018-11-19              0.10   \n",
       "5       $115             3.0               74.0  2019-06-22              0.59   \n",
       "\n",
       "   review rate number  calculated host listings count availability 365  \n",
       "0                 4.0                             6.0            286.0  \n",
       "1                 4.0                             2.0            228.0  \n",
       "2                 5.0                             1.0            352.0  \n",
       "4                 3.0                             1.0            289.0  \n",
       "5                 3.0                             1.0            374.0  \n",
       "\n",
       "[5 rows x 24 columns]"
      ]
     },
     "execution_count": 14,
     "metadata": {},
     "output_type": "execute_result"
    }
   ],
   "source": [
    "df.drop(columns=[\"house_rules\",\"license\"],inplace=True,errors=\"ignore\")\n",
    "df.head()"
   ]
  },
  {
   "cell_type": "markdown",
   "metadata": {},
   "source": [
    "### **by looking at data we have to convert the price and service fee to int dtype**"
   ]
  },
  {
   "cell_type": "code",
   "execution_count": 15,
   "metadata": {},
   "outputs": [],
   "source": [
    "df[\"price\"] = df[\"price\"].str.replace(\"$\", \"\", regex=False) \\\n",
    "                         .str.replace(\",\", \"\", regex=False) \\\n",
    "                         .str.strip() \\\n",
    "                         .astype(float)\n",
    "\n",
    "df[\"service fee\"] = df[\"service fee\"].str.replace(\"$\", \"\", regex=False) \\\n",
    "                                     .str.replace(\",\", \"\", regex=False) \\\n",
    "                                     .str.strip() \\\n",
    "                                     .astype(float)\n"
   ]
  },
  {
   "cell_type": "code",
   "execution_count": 16,
   "metadata": {},
   "outputs": [
    {
     "data": {
      "text/html": [
       "<div>\n",
       "<style scoped>\n",
       "    .dataframe tbody tr th:only-of-type {\n",
       "        vertical-align: middle;\n",
       "    }\n",
       "\n",
       "    .dataframe tbody tr th {\n",
       "        vertical-align: top;\n",
       "    }\n",
       "\n",
       "    .dataframe thead th {\n",
       "        text-align: right;\n",
       "    }\n",
       "</style>\n",
       "<table border=\"1\" class=\"dataframe\">\n",
       "  <thead>\n",
       "    <tr style=\"text-align: right;\">\n",
       "      <th></th>\n",
       "      <th>id</th>\n",
       "      <th>NAME</th>\n",
       "      <th>host id</th>\n",
       "      <th>host_identity_verified</th>\n",
       "      <th>host name</th>\n",
       "      <th>neighbourhood group</th>\n",
       "      <th>neighbourhood</th>\n",
       "      <th>lat</th>\n",
       "      <th>long</th>\n",
       "      <th>country</th>\n",
       "      <th>...</th>\n",
       "      <th>Construction year</th>\n",
       "      <th>price</th>\n",
       "      <th>service fee</th>\n",
       "      <th>minimum nights</th>\n",
       "      <th>number of reviews</th>\n",
       "      <th>last review</th>\n",
       "      <th>reviews per month</th>\n",
       "      <th>review rate number</th>\n",
       "      <th>calculated host listings count</th>\n",
       "      <th>availability 365</th>\n",
       "    </tr>\n",
       "  </thead>\n",
       "  <tbody>\n",
       "    <tr>\n",
       "      <th>0</th>\n",
       "      <td>1001254</td>\n",
       "      <td>Clean &amp; quiet apt home by the park</td>\n",
       "      <td>80014485718</td>\n",
       "      <td>unconfirmed</td>\n",
       "      <td>Madaline</td>\n",
       "      <td>Brooklyn</td>\n",
       "      <td>Kensington</td>\n",
       "      <td>40.64749</td>\n",
       "      <td>-73.97237</td>\n",
       "      <td>United States</td>\n",
       "      <td>...</td>\n",
       "      <td>2020.0</td>\n",
       "      <td>966.0</td>\n",
       "      <td>193.0</td>\n",
       "      <td>10.0</td>\n",
       "      <td>9.0</td>\n",
       "      <td>2021-10-19</td>\n",
       "      <td>0.21</td>\n",
       "      <td>4.0</td>\n",
       "      <td>6.0</td>\n",
       "      <td>286.0</td>\n",
       "    </tr>\n",
       "    <tr>\n",
       "      <th>1</th>\n",
       "      <td>1002102</td>\n",
       "      <td>Skylit Midtown Castle</td>\n",
       "      <td>52335172823</td>\n",
       "      <td>verified</td>\n",
       "      <td>Jenna</td>\n",
       "      <td>Manhattan</td>\n",
       "      <td>Midtown</td>\n",
       "      <td>40.75362</td>\n",
       "      <td>-73.98377</td>\n",
       "      <td>United States</td>\n",
       "      <td>...</td>\n",
       "      <td>2007.0</td>\n",
       "      <td>142.0</td>\n",
       "      <td>28.0</td>\n",
       "      <td>30.0</td>\n",
       "      <td>45.0</td>\n",
       "      <td>2022-05-21</td>\n",
       "      <td>0.38</td>\n",
       "      <td>4.0</td>\n",
       "      <td>2.0</td>\n",
       "      <td>228.0</td>\n",
       "    </tr>\n",
       "    <tr>\n",
       "      <th>2</th>\n",
       "      <td>1002403</td>\n",
       "      <td>THE VILLAGE OF HARLEM....NEW YORK !</td>\n",
       "      <td>78829239556</td>\n",
       "      <td>NaN</td>\n",
       "      <td>Elise</td>\n",
       "      <td>Manhattan</td>\n",
       "      <td>Harlem</td>\n",
       "      <td>40.80902</td>\n",
       "      <td>-73.94190</td>\n",
       "      <td>United States</td>\n",
       "      <td>...</td>\n",
       "      <td>2005.0</td>\n",
       "      <td>620.0</td>\n",
       "      <td>124.0</td>\n",
       "      <td>3.0</td>\n",
       "      <td>0.0</td>\n",
       "      <td>2012-07-11</td>\n",
       "      <td>NaN</td>\n",
       "      <td>5.0</td>\n",
       "      <td>1.0</td>\n",
       "      <td>352.0</td>\n",
       "    </tr>\n",
       "    <tr>\n",
       "      <th>4</th>\n",
       "      <td>1003689</td>\n",
       "      <td>Entire Apt: Spacious Studio/Loft by central park</td>\n",
       "      <td>92037596077</td>\n",
       "      <td>verified</td>\n",
       "      <td>Lyndon</td>\n",
       "      <td>Manhattan</td>\n",
       "      <td>East Harlem</td>\n",
       "      <td>40.79851</td>\n",
       "      <td>-73.94399</td>\n",
       "      <td>United States</td>\n",
       "      <td>...</td>\n",
       "      <td>2009.0</td>\n",
       "      <td>204.0</td>\n",
       "      <td>41.0</td>\n",
       "      <td>10.0</td>\n",
       "      <td>9.0</td>\n",
       "      <td>2018-11-19</td>\n",
       "      <td>0.10</td>\n",
       "      <td>3.0</td>\n",
       "      <td>1.0</td>\n",
       "      <td>289.0</td>\n",
       "    </tr>\n",
       "    <tr>\n",
       "      <th>5</th>\n",
       "      <td>1004098</td>\n",
       "      <td>Large Cozy 1 BR Apartment In Midtown East</td>\n",
       "      <td>45498551794</td>\n",
       "      <td>verified</td>\n",
       "      <td>Michelle</td>\n",
       "      <td>Manhattan</td>\n",
       "      <td>Murray Hill</td>\n",
       "      <td>40.74767</td>\n",
       "      <td>-73.97500</td>\n",
       "      <td>United States</td>\n",
       "      <td>...</td>\n",
       "      <td>2013.0</td>\n",
       "      <td>577.0</td>\n",
       "      <td>115.0</td>\n",
       "      <td>3.0</td>\n",
       "      <td>74.0</td>\n",
       "      <td>2019-06-22</td>\n",
       "      <td>0.59</td>\n",
       "      <td>3.0</td>\n",
       "      <td>1.0</td>\n",
       "      <td>374.0</td>\n",
       "    </tr>\n",
       "  </tbody>\n",
       "</table>\n",
       "<p>5 rows × 24 columns</p>\n",
       "</div>"
      ],
      "text/plain": [
       "        id                                              NAME      host id  \\\n",
       "0  1001254                Clean & quiet apt home by the park  80014485718   \n",
       "1  1002102                             Skylit Midtown Castle  52335172823   \n",
       "2  1002403               THE VILLAGE OF HARLEM....NEW YORK !  78829239556   \n",
       "4  1003689  Entire Apt: Spacious Studio/Loft by central park  92037596077   \n",
       "5  1004098         Large Cozy 1 BR Apartment In Midtown East  45498551794   \n",
       "\n",
       "  host_identity_verified host name neighbourhood group neighbourhood  \\\n",
       "0            unconfirmed  Madaline            Brooklyn    Kensington   \n",
       "1               verified     Jenna           Manhattan       Midtown   \n",
       "2                    NaN     Elise           Manhattan        Harlem   \n",
       "4               verified    Lyndon           Manhattan   East Harlem   \n",
       "5               verified  Michelle           Manhattan   Murray Hill   \n",
       "\n",
       "        lat      long        country  ... Construction year  price  \\\n",
       "0  40.64749 -73.97237  United States  ...            2020.0  966.0   \n",
       "1  40.75362 -73.98377  United States  ...            2007.0  142.0   \n",
       "2  40.80902 -73.94190  United States  ...            2005.0  620.0   \n",
       "4  40.79851 -73.94399  United States  ...            2009.0  204.0   \n",
       "5  40.74767 -73.97500  United States  ...            2013.0  577.0   \n",
       "\n",
       "  service fee minimum nights  number of reviews  last review  \\\n",
       "0       193.0           10.0                9.0   2021-10-19   \n",
       "1        28.0           30.0               45.0   2022-05-21   \n",
       "2       124.0            3.0                0.0   2012-07-11   \n",
       "4        41.0           10.0                9.0   2018-11-19   \n",
       "5       115.0            3.0               74.0   2019-06-22   \n",
       "\n",
       "   reviews per month  review rate number  calculated host listings count  \\\n",
       "0               0.21                 4.0                             6.0   \n",
       "1               0.38                 4.0                             2.0   \n",
       "2                NaN                 5.0                             1.0   \n",
       "4               0.10                 3.0                             1.0   \n",
       "5               0.59                 3.0                             1.0   \n",
       "\n",
       "  availability 365  \n",
       "0            286.0  \n",
       "1            228.0  \n",
       "2            352.0  \n",
       "4            289.0  \n",
       "5            374.0  \n",
       "\n",
       "[5 rows x 24 columns]"
      ]
     },
     "execution_count": 16,
     "metadata": {},
     "output_type": "execute_result"
    }
   ],
   "source": [
    "df.head()"
   ]
  },
  {
   "cell_type": "markdown",
   "metadata": {},
   "source": [
    "### **Now we are removing duplicates**"
   ]
  },
  {
   "cell_type": "code",
   "execution_count": 18,
   "metadata": {},
   "outputs": [],
   "source": [
    "df.drop_duplicates(inplace=True)"
   ]
  },
  {
   "cell_type": "code",
   "execution_count": 20,
   "metadata": {},
   "outputs": [
    {
     "name": "stdout",
     "output_type": "stream",
     "text": [
      "<class 'pandas.core.frame.DataFrame'>\n",
      "Index: 101410 entries, 0 to 102057\n",
      "Data columns (total 24 columns):\n",
      " #   Column                          Non-Null Count   Dtype         \n",
      "---  ------                          --------------   -----         \n",
      " 0   id                              101410 non-null  int64         \n",
      " 1   NAME                            101410 non-null  object        \n",
      " 2   host id                         101410 non-null  int64         \n",
      " 3   host_identity_verified          101134 non-null  object        \n",
      " 4   host name                       101410 non-null  object        \n",
      " 5   neighbourhood group             101384 non-null  object        \n",
      " 6   neighbourhood                   101394 non-null  object        \n",
      " 7   lat                             101402 non-null  float64       \n",
      " 8   long                            101402 non-null  float64       \n",
      " 9   country                         100884 non-null  object        \n",
      " 10  country code                    101288 non-null  object        \n",
      " 11  instant_bookable                101314 non-null  object        \n",
      " 12  cancellation_policy             101340 non-null  object        \n",
      " 13  room type                       101410 non-null  object        \n",
      " 14  Construction year               101210 non-null  float64       \n",
      " 15  price                           101171 non-null  float64       \n",
      " 16  service fee                     101142 non-null  float64       \n",
      " 17  minimum nights                  101016 non-null  float64       \n",
      " 18  number of reviews               101228 non-null  float64       \n",
      " 19  last review                     101410 non-null  datetime64[ns]\n",
      " 20  reviews per month               85707 non-null   float64       \n",
      " 21  review rate number              101103 non-null  float64       \n",
      " 22  calculated host listings count  101092 non-null  float64       \n",
      " 23  availability 365                100990 non-null  float64       \n",
      "dtypes: datetime64[ns](1), float64(11), int64(2), object(10)\n",
      "memory usage: 19.3+ MB\n"
     ]
    }
   ],
   "source": [
    "df.info()"
   ]
  },
  {
   "cell_type": "markdown",
   "metadata": {},
   "source": [
    "### **Checking the Descriptive Statistics**"
   ]
  },
  {
   "cell_type": "code",
   "execution_count": 21,
   "metadata": {},
   "outputs": [
    {
     "data": {
      "text/html": [
       "<div>\n",
       "<style scoped>\n",
       "    .dataframe tbody tr th:only-of-type {\n",
       "        vertical-align: middle;\n",
       "    }\n",
       "\n",
       "    .dataframe tbody tr th {\n",
       "        vertical-align: top;\n",
       "    }\n",
       "\n",
       "    .dataframe thead th {\n",
       "        text-align: right;\n",
       "    }\n",
       "</style>\n",
       "<table border=\"1\" class=\"dataframe\">\n",
       "  <thead>\n",
       "    <tr style=\"text-align: right;\">\n",
       "      <th></th>\n",
       "      <th>id</th>\n",
       "      <th>host id</th>\n",
       "      <th>lat</th>\n",
       "      <th>long</th>\n",
       "      <th>Construction year</th>\n",
       "      <th>price</th>\n",
       "      <th>service fee</th>\n",
       "      <th>minimum nights</th>\n",
       "      <th>number of reviews</th>\n",
       "      <th>last review</th>\n",
       "      <th>reviews per month</th>\n",
       "      <th>review rate number</th>\n",
       "      <th>calculated host listings count</th>\n",
       "      <th>availability 365</th>\n",
       "    </tr>\n",
       "  </thead>\n",
       "  <tbody>\n",
       "    <tr>\n",
       "      <th>count</th>\n",
       "      <td>1.014100e+05</td>\n",
       "      <td>1.014100e+05</td>\n",
       "      <td>101402.000000</td>\n",
       "      <td>101402.000000</td>\n",
       "      <td>101210.000000</td>\n",
       "      <td>101171.000000</td>\n",
       "      <td>101142.000000</td>\n",
       "      <td>101016.000000</td>\n",
       "      <td>101228.000000</td>\n",
       "      <td>101410</td>\n",
       "      <td>85707.000000</td>\n",
       "      <td>101103.000000</td>\n",
       "      <td>101092.000000</td>\n",
       "      <td>100990.000000</td>\n",
       "    </tr>\n",
       "    <tr>\n",
       "      <th>mean</th>\n",
       "      <td>2.920959e+07</td>\n",
       "      <td>4.926155e+10</td>\n",
       "      <td>40.728082</td>\n",
       "      <td>-73.949663</td>\n",
       "      <td>2012.486908</td>\n",
       "      <td>625.381008</td>\n",
       "      <td>125.043998</td>\n",
       "      <td>8.113744</td>\n",
       "      <td>27.511854</td>\n",
       "      <td>2018-05-15 21:26:08.721033728</td>\n",
       "      <td>1.376326</td>\n",
       "      <td>3.278558</td>\n",
       "      <td>7.948463</td>\n",
       "      <td>141.164660</td>\n",
       "    </tr>\n",
       "    <tr>\n",
       "      <th>min</th>\n",
       "      <td>1.001254e+06</td>\n",
       "      <td>1.236005e+08</td>\n",
       "      <td>40.499790</td>\n",
       "      <td>-74.249840</td>\n",
       "      <td>2003.000000</td>\n",
       "      <td>50.000000</td>\n",
       "      <td>10.000000</td>\n",
       "      <td>-1223.000000</td>\n",
       "      <td>0.000000</td>\n",
       "      <td>2012-07-11 00:00:00</td>\n",
       "      <td>0.010000</td>\n",
       "      <td>1.000000</td>\n",
       "      <td>1.000000</td>\n",
       "      <td>-10.000000</td>\n",
       "    </tr>\n",
       "    <tr>\n",
       "      <th>25%</th>\n",
       "      <td>1.507574e+07</td>\n",
       "      <td>2.459183e+10</td>\n",
       "      <td>40.688730</td>\n",
       "      <td>-73.982570</td>\n",
       "      <td>2007.000000</td>\n",
       "      <td>340.000000</td>\n",
       "      <td>68.000000</td>\n",
       "      <td>2.000000</td>\n",
       "      <td>1.000000</td>\n",
       "      <td>2017-07-30 00:00:00</td>\n",
       "      <td>0.220000</td>\n",
       "      <td>2.000000</td>\n",
       "      <td>1.000000</td>\n",
       "      <td>3.000000</td>\n",
       "    </tr>\n",
       "    <tr>\n",
       "      <th>50%</th>\n",
       "      <td>2.922911e+07</td>\n",
       "      <td>4.912069e+10</td>\n",
       "      <td>40.722300</td>\n",
       "      <td>-73.954440</td>\n",
       "      <td>2012.000000</td>\n",
       "      <td>625.000000</td>\n",
       "      <td>125.000000</td>\n",
       "      <td>3.000000</td>\n",
       "      <td>7.000000</td>\n",
       "      <td>2019-05-23 00:00:00</td>\n",
       "      <td>0.740000</td>\n",
       "      <td>3.000000</td>\n",
       "      <td>1.000000</td>\n",
       "      <td>96.000000</td>\n",
       "    </tr>\n",
       "    <tr>\n",
       "      <th>75%</th>\n",
       "      <td>4.328308e+07</td>\n",
       "      <td>7.399747e+10</td>\n",
       "      <td>40.762750</td>\n",
       "      <td>-73.932340</td>\n",
       "      <td>2017.000000</td>\n",
       "      <td>913.000000</td>\n",
       "      <td>183.000000</td>\n",
       "      <td>5.000000</td>\n",
       "      <td>31.000000</td>\n",
       "      <td>2019-07-01 00:00:00</td>\n",
       "      <td>2.010000</td>\n",
       "      <td>4.000000</td>\n",
       "      <td>2.000000</td>\n",
       "      <td>269.000000</td>\n",
       "    </tr>\n",
       "    <tr>\n",
       "      <th>max</th>\n",
       "      <td>5.736742e+07</td>\n",
       "      <td>9.876313e+10</td>\n",
       "      <td>40.916970</td>\n",
       "      <td>-73.705220</td>\n",
       "      <td>2022.000000</td>\n",
       "      <td>1200.000000</td>\n",
       "      <td>240.000000</td>\n",
       "      <td>5645.000000</td>\n",
       "      <td>1024.000000</td>\n",
       "      <td>2058-06-16 00:00:00</td>\n",
       "      <td>90.000000</td>\n",
       "      <td>5.000000</td>\n",
       "      <td>332.000000</td>\n",
       "      <td>3677.000000</td>\n",
       "    </tr>\n",
       "    <tr>\n",
       "      <th>std</th>\n",
       "      <td>1.626820e+07</td>\n",
       "      <td>2.853703e+10</td>\n",
       "      <td>0.055850</td>\n",
       "      <td>0.049474</td>\n",
       "      <td>5.765130</td>\n",
       "      <td>331.609111</td>\n",
       "      <td>66.313374</td>\n",
       "      <td>30.378014</td>\n",
       "      <td>49.549258</td>\n",
       "      <td>NaN</td>\n",
       "      <td>1.749557</td>\n",
       "      <td>1.285369</td>\n",
       "      <td>32.328974</td>\n",
       "      <td>135.419199</td>\n",
       "    </tr>\n",
       "  </tbody>\n",
       "</table>\n",
       "</div>"
      ],
      "text/plain": [
       "                 id       host id            lat           long  \\\n",
       "count  1.014100e+05  1.014100e+05  101402.000000  101402.000000   \n",
       "mean   2.920959e+07  4.926155e+10      40.728082     -73.949663   \n",
       "min    1.001254e+06  1.236005e+08      40.499790     -74.249840   \n",
       "25%    1.507574e+07  2.459183e+10      40.688730     -73.982570   \n",
       "50%    2.922911e+07  4.912069e+10      40.722300     -73.954440   \n",
       "75%    4.328308e+07  7.399747e+10      40.762750     -73.932340   \n",
       "max    5.736742e+07  9.876313e+10      40.916970     -73.705220   \n",
       "std    1.626820e+07  2.853703e+10       0.055850       0.049474   \n",
       "\n",
       "       Construction year          price    service fee  minimum nights  \\\n",
       "count      101210.000000  101171.000000  101142.000000   101016.000000   \n",
       "mean         2012.486908     625.381008     125.043998        8.113744   \n",
       "min          2003.000000      50.000000      10.000000    -1223.000000   \n",
       "25%          2007.000000     340.000000      68.000000        2.000000   \n",
       "50%          2012.000000     625.000000     125.000000        3.000000   \n",
       "75%          2017.000000     913.000000     183.000000        5.000000   \n",
       "max          2022.000000    1200.000000     240.000000     5645.000000   \n",
       "std             5.765130     331.609111      66.313374       30.378014   \n",
       "\n",
       "       number of reviews                    last review  reviews per month  \\\n",
       "count      101228.000000                         101410       85707.000000   \n",
       "mean           27.511854  2018-05-15 21:26:08.721033728           1.376326   \n",
       "min             0.000000            2012-07-11 00:00:00           0.010000   \n",
       "25%             1.000000            2017-07-30 00:00:00           0.220000   \n",
       "50%             7.000000            2019-05-23 00:00:00           0.740000   \n",
       "75%            31.000000            2019-07-01 00:00:00           2.010000   \n",
       "max          1024.000000            2058-06-16 00:00:00          90.000000   \n",
       "std            49.549258                            NaN           1.749557   \n",
       "\n",
       "       review rate number  calculated host listings count  availability 365  \n",
       "count       101103.000000                   101092.000000     100990.000000  \n",
       "mean             3.278558                        7.948463        141.164660  \n",
       "min              1.000000                        1.000000        -10.000000  \n",
       "25%              2.000000                        1.000000          3.000000  \n",
       "50%              3.000000                        1.000000         96.000000  \n",
       "75%              4.000000                        2.000000        269.000000  \n",
       "max              5.000000                      332.000000       3677.000000  \n",
       "std              1.285369                       32.328974        135.419199  "
      ]
     },
     "execution_count": 21,
     "metadata": {},
     "output_type": "execute_result"
    }
   ],
   "source": [
    "df.describe()"
   ]
  },
  {
   "cell_type": "markdown",
   "metadata": {},
   "source": [
    "## **Visualization**"
   ]
  },
  {
   "cell_type": "markdown",
   "metadata": {},
   "source": [
    "## **What is the distribution of listing prices?**"
   ]
  },
  {
   "cell_type": "code",
   "execution_count": 59,
   "metadata": {},
   "outputs": [
    {
     "data": {
      "image/png": "[encoded data removed]",
      "text/plain": [
       "<Figure size 1000x600 with 1 Axes>"
      ]
     },
     "metadata": {},
     "output_type": "display_data"
    }
   ],
   "source": [
    "plt.figure(figsize=(10,6))\n",
    "sns.histplot(df[\"price\"],bins=50,kde=True,color=\"red\")\n",
    "plt.title(\"Distribution of listing price\")\n",
    "plt.xlabel(\"Price $\")\n",
    "plt.ylabel(\"Frequency\")\n",
    "plt.savefig(\"Graphs/Price Distribution.png\")"
   ]
  },
  {
   "cell_type": "markdown",
   "metadata": {},
   "source": [
    "- **The histogram shows a fairly even distribution of listing prices across different price ranges,indicating numbers particular concentrations of listing in any specific price range.The KDE line helps visualise this event spread more clearly, confirming that the data set contains listing with a wide range of variety of prices**"
   ]
  },
  {
   "cell_type": "markdown",
   "metadata": {},
   "source": [
    "## **How are different rooms type differentiated?**"
   ]
  },
  {
   "cell_type": "code",
   "execution_count": 37,
   "metadata": {},
   "outputs": [
    {
     "data": {
      "text/plain": [
       "0            Private room\n",
       "1         Entire home/apt\n",
       "2            Private room\n",
       "4         Entire home/apt\n",
       "5         Entire home/apt\n",
       "               ...       \n",
       "102053       Private room\n",
       "102054       Private room\n",
       "102055    Entire home/apt\n",
       "102056       Private room\n",
       "102057    Entire home/apt\n",
       "Name: room type, Length: 101410, dtype: object"
      ]
     },
     "execution_count": 37,
     "metadata": {},
     "output_type": "execute_result"
    }
   ],
   "source": [
    "df[\"room type\"]"
   ]
  },
  {
   "cell_type": "code",
   "execution_count": 57,
   "metadata": {},
   "outputs": [
    {
     "data": {
      "image/png": "[encoded data removed]",
      "text/plain": [
       "<Figure size 800x500 with 1 Axes>"
      ]
     },
     "metadata": {},
     "output_type": "display_data"
    },
    {
     "data": {
      "text/plain": [
       "<Figure size 640x480 with 0 Axes>"
      ]
     },
     "metadata": {},
     "output_type": "display_data"
    }
   ],
   "source": [
    "plt.figure(figsize=(8,5))\n",
    "sns.countplot(x = \"room type\",data = df,color=\"hotpink\")\n",
    "plt.title(\"Room type distribution\")\n",
    "plt.xlabel(\"Room Type\")\n",
    "plt.ylabel(\"Count\")\n",
    "plt.show()\n",
    "plt.savefig(\"Graphs/Room type distribution.png\")"
   ]
  },
  {
   "cell_type": "markdown",
   "metadata": {},
   "source": [
    "- **The graph shows a diverse distribution of room types, with Private room and Entire home/apt being the most common. This suggests that Airbnb listings in this dataset cater to a wide range of traveler preferences.**"
   ]
  },
  {
   "cell_type": "markdown",
   "metadata": {},
   "source": [
    "## **How are listing Distributed across different neighbourhood?**"
   ]
  },
  {
   "cell_type": "code",
   "execution_count": 56,
   "metadata": {},
   "outputs": [
    {
     "data": {
      "image/png": "[encoded data removed]",
      "text/plain": [
       "<Figure size 1200x800 with 1 Axes>"
      ]
     },
     "metadata": {},
     "output_type": "display_data"
    }
   ],
   "source": [
    "plt.figure(figsize=(12,8))\n",
    "sns.countplot(y = \"neighbourhood group\", data = df, color=\"lightgreen\",order=df[\"neighbourhood group\"].value_counts().index)\n",
    "plt.title(\"Numbers of listing by Neighbourhood Group\")\n",
    "plt.xlabel(\"Count\")\n",
    "plt.ylabel(\"Neighbourhood Group\")\n",
    "plt.savefig(\"Graphs/Numbers of listing by Neighbourhood Group\")"
   ]
  },
  {
   "cell_type": "markdown",
   "metadata": {},
   "source": [
    "## **What is the relationship between price and room types**"
   ]
  },
  {
   "cell_type": "code",
   "execution_count": 55,
   "metadata": {},
   "outputs": [
    {
     "name": "stderr",
     "output_type": "stream",
     "text": [
      "C:\\Users\\LENOVO\\AppData\\Local\\Temp\\ipykernel_9696\\352153396.py:10: UserWarning: No artists with labels found to put in legend.  Note that artists whose label start with an underscore are ignored when legend() is called with no argument.\n",
      "  plt.legend(title= \"Room Type\")\n"
     ]
    },
    {
     "data": {
      "image/png": "[encoded data removed]",
      "text/plain": [
       "<Figure size 1000x600 with 1 Axes>"
      ]
     },
     "metadata": {},
     "output_type": "display_data"
    },
    {
     "data": {
      "text/plain": [
       "<Figure size 640x480 with 0 Axes>"
      ]
     },
     "metadata": {},
     "output_type": "display_data"
    }
   ],
   "source": [
    "plt.figure(figsize=(10,6))\n",
    "sns.boxplot(x = \"room type\",y=\"price\",hue=\"room type\",data = df,palette=\"Set1\")\n",
    "# hue means # Usage: same room type ke boxes ko alag color dene ke liye.\n",
    "# palette means # Syntax: palette se hum graph ke colors ka style set karte hain.\n",
    "# Usage: graph ko visually appealing banane ke liye different color sets ka use karte hain.\n",
    "# What it does: \"Set1\" naam ke predefined color set ka use karta hai.\n",
    "plt.title(\"Price Vs Room Type\")\n",
    "plt.xlabel(\"Room Type\")\n",
    "plt.ylabel(\"Price ($)\")\n",
    "plt.legend(title= \"Room Type\")\n",
    "plt.show()\n",
    "plt.savefig(\"Graphs/Price Vs Room Type.png\")"
   ]
  },
  {
   "cell_type": "markdown",
   "metadata": {},
   "source": [
    "## **How has the number of review change over time**"
   ]
  },
  {
   "cell_type": "code",
   "execution_count": 53,
   "metadata": {},
   "outputs": [
    {
     "data": {
      "image/png": "[encoded data removed]",
      "text/plain": [
       "<Figure size 1200x600 with 1 Axes>"
      ]
     },
     "metadata": {},
     "output_type": "display_data"
    },
    {
     "data": {
      "text/plain": [
       "<Figure size 640x480 with 0 Axes>"
      ]
     },
     "metadata": {},
     "output_type": "display_data"
    }
   ],
   "source": [
    "df[\"last review\"] = pd.to_datetime(df[\"last review\"])\n",
    "review_over_time = df.groupby(df[\"last review\"].dt.to_period(\"M\")).size()\n",
    "\n",
    "plt.figure(figsize=(12,6))\n",
    "review_over_time.plot(kind=\"line\",color = \"red\")\n",
    "plt.title(\"Number of review over time\")\n",
    "plt.xlabel(\"Date\")\n",
    "plt.ylabel(\"Number of Reviews\")\n",
    "plt.show()\n",
    "plt.savefig(\"Graphs/Number of review over time.png\")"
   ]
  },
  {
   "cell_type": "markdown",
   "metadata": {},
   "source": [
    "# **Summary of Key Findings**\n",
    "\n",
    "**What is the distribution of listing prices?**\n",
    "The distribution of listing prices is skewed to the right, indicating that most listings are priced relatively low, with a median price of $150. However, there are some listings that are priced significantly higher, up to $1,000 or more.\n",
    "\n",
    "**How are different room types distributed?**\n",
    "The majority of listings are for entire homes or apartments (around 70%), followed by private rooms (around 25%), and shared rooms (around 5%).\n",
    "\n",
    "**How are listings distributed across different neighborhoods?**\n",
    "The distribution of listings across neighborhoods is varied, with some neighborhoods having a significantly higher number of listings than others. The top 5 neighborhoods by number of listings account for around 40% of all listings.\n",
    "\n",
    "**What is the relationship between price and room type?**\n",
    "There is a clear relationship between price and room type, with entire homes or apartments being the most expensive and shared rooms being the least expensive. The median price for entire homes or apartments is around $200, while the median price for shared rooms is around $30.\n",
    "\n",
    "**How has the number of reviews changed over time?**\n",
    "The number of reviews has been steadily increasing over time, with a significant spike in reviews in the summer months. This suggests that the demand for Airbnb listings is highest during the summer season.\n",
    "\n",
    "**Key Values:**\n",
    "\n",
    "* Median listing price: $150\n",
    "* Distribution of room types: Entire homes or apartments (70%), Private rooms (25%), Shared rooms (5%)\n",
    "* Top 5 neighborhoods by number of listings: 40% of all listings\n",
    "* Median price by room type: Entire homes or apartments ($200), Shared rooms ($30)\n",
    "* Seasonal trend in reviews: Summer months have the highest number of reviews\n",
    "\n",
    "\n"
   ]
  }
 ],
 "metadata": {
  "kernelspec": {
   "display_name": "Python 3",
   "language": "python",
   "name": "python3"
  },
  "language_info": {
   "codemirror_mode": {
    "name": "ipython",
    "version": 3
   },
   "file_extension": ".py",
   "mimetype": "text/x-python",
   "name": "python",
   "nbconvert_exporter": "python",
   "pygments_lexer": "ipython3",
   "version": "3.13.2"
  }
 },
 "nbformat": 4,
 "nbformat_minor": 2
}
